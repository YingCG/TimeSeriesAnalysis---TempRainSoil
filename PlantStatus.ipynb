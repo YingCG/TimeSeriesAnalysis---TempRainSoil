{
 "cells": [
  {
   "cell_type": "markdown",
   "metadata": {},
   "source": [
    "Plan: Climate Change Risk Assessment for Terrestrial\n",
    "Species and Ecosystems in the Auckland Region\n",
    "Craig Bishop and Todd Landers\n",
    "March 2019 Technical Report 2019/014"
   ]
  },
  {
   "cell_type": "code",
   "execution_count": 3,
   "metadata": {},
   "outputs": [],
   "source": [
    "import pandas as pd\n",
    "\n",
    "nzplant = {\n",
    "    'Scientific Name': ['Agathis australis', 'Amphibromus fluitans', 'Anogramma leptophylla'],\n",
    "    'Growth Form and Habit': ['Stout, coniferous forest tree', 'Weakly tufted, semi-aquatic grass', 'Small winter dormant fern'],\n",
    "    'Threat Status': ['Nationally vulnerable', 'Nationally endangered', 'Nationally vulnerable'],\n",
    "    'Climate Change Impact': ['Moderate risk', 'Moderate risk', 'Moderate-high risk']\n",
    "}\n"
   ]
  },
  {
   "cell_type": "code",
   "execution_count": 4,
   "metadata": {},
   "outputs": [
    {
     "data": {
      "text/html": [
       "<div>\n",
       "<style scoped>\n",
       "    .dataframe tbody tr th:only-of-type {\n",
       "        vertical-align: middle;\n",
       "    }\n",
       "\n",
       "    .dataframe tbody tr th {\n",
       "        vertical-align: top;\n",
       "    }\n",
       "\n",
       "    .dataframe thead th {\n",
       "        text-align: right;\n",
       "    }\n",
       "</style>\n",
       "<table border=\"1\" class=\"dataframe\">\n",
       "  <thead>\n",
       "    <tr style=\"text-align: right;\">\n",
       "      <th></th>\n",
       "      <th>Scientific Name</th>\n",
       "      <th>Growth Form and Habit</th>\n",
       "      <th>Threat Status</th>\n",
       "      <th>Climate Change Impact</th>\n",
       "    </tr>\n",
       "  </thead>\n",
       "  <tbody>\n",
       "    <tr>\n",
       "      <th>0</th>\n",
       "      <td>Agathis australis</td>\n",
       "      <td>Stout, coniferous forest tree</td>\n",
       "      <td>Nationally vulnerable</td>\n",
       "      <td>Moderate risk</td>\n",
       "    </tr>\n",
       "    <tr>\n",
       "      <th>1</th>\n",
       "      <td>Amphibromus fluitans</td>\n",
       "      <td>Weakly tufted, semi-aquatic grass</td>\n",
       "      <td>Nationally endangered</td>\n",
       "      <td>Moderate risk</td>\n",
       "    </tr>\n",
       "    <tr>\n",
       "      <th>2</th>\n",
       "      <td>Anogramma leptophylla</td>\n",
       "      <td>Small winter dormant fern</td>\n",
       "      <td>Nationally vulnerable</td>\n",
       "      <td>Moderate-high risk</td>\n",
       "    </tr>\n",
       "  </tbody>\n",
       "</table>\n",
       "</div>"
      ],
      "text/plain": [
       "         Scientific Name              Growth Form and Habit  \\\n",
       "0      Agathis australis      Stout, coniferous forest tree   \n",
       "1   Amphibromus fluitans  Weakly tufted, semi-aquatic grass   \n",
       "2  Anogramma leptophylla          Small winter dormant fern   \n",
       "\n",
       "           Threat Status Climate Change Impact  \n",
       "0  Nationally vulnerable         Moderate risk  \n",
       "1  Nationally endangered         Moderate risk  \n",
       "2  Nationally vulnerable    Moderate-high risk  "
      ]
     },
     "execution_count": 4,
     "metadata": {},
     "output_type": "execute_result"
    }
   ],
   "source": [
    "plants_df = pd.DataFrame(nzplant)\n",
    "plants_df"
   ]
  },
  {
   "cell_type": "code",
   "execution_count": 5,
   "metadata": {},
   "outputs": [],
   "source": [
    "def classify_plants(growth_habit):\n",
    "    if 'tree' in growth_habit:\n",
    "        return 'Thriving'\n",
    "    elif 'grass' in growth_habit:\n",
    "        return 'Moderate'\n",
    "    elif 'fern' in growth_habit:\n",
    "        return 'Stressed'\n",
    "    else:\n",
    "        return 'Unknown'"
   ]
  },
  {
   "cell_type": "code",
   "execution_count": 6,
   "metadata": {},
   "outputs": [
    {
     "name": "stdout",
     "output_type": "stream",
     "text": [
      "         Scientific Name              Growth Form and Habit  \\\n",
      "0      Agathis australis      Stout, coniferous forest tree   \n",
      "1   Amphibromus fluitans  Weakly tufted, semi-aquatic grass   \n",
      "2  Anogramma leptophylla          Small winter dormant fern   \n",
      "\n",
      "           Threat Status Climate Change Impact Soil Moisture Response  \n",
      "0  Nationally vulnerable         Moderate risk               Thriving  \n",
      "1  Nationally endangered         Moderate risk               Moderate  \n",
      "2  Nationally vulnerable    Moderate-high risk               Stressed  \n"
     ]
    }
   ],
   "source": [
    "plants_df['Soil Moisture Response'] = plants_df['Growth Form and Habit'].apply(classify_plants)\n",
    "print(plants_df)\n"
   ]
  },
  {
   "cell_type": "code",
   "execution_count": null,
   "metadata": {},
   "outputs": [],
   "source": [
    "# pip install pdfplumber\n",
    "\n",
    "\n",
    "import pdfplumber\n",
    "import pandas as pd\n",
    "\n",
    "def scrape_plant_info_from_pdf(pdf_path):\n",
    "    plant_data = []\n",
    "\n",
    "    with pdfplumber.open(pdf_path) as pdf:\n",
    "        first_page = pdf.pages[0]  # Assuming plant info is on the first page\n",
    "        text = first_page.extract_text()\n",
    "\n",
    "        # Example regex patterns, adjust according to your PDF structure\n",
    "        pattern = r'Scientific \\(and common\\) name\\(s\\)\\s+Growth form and habit \\(from NZPCN 2019\\)\\s+Threat status \\(de Lange et al. 2018\\)\\s+Habitat and vulnerability to climate change impacts and overall risk of adverse effects from climate change\\.*'\n",
    "        match = re.search(pattern, text)\n",
    "        start_index = match.end() if match else 0\n",
    "\n",
    "        # Extracting plant information\n",
    "        plant_info_text = text[start_index:].strip()\n",
    "\n",
    "        # Splitting the plant information into rows\n",
    "        rows = re.split(r'\\n+', plant_info_text)\n",
    "\n",
    "        for row in rows:\n",
    "            cols = re.split(r'\\s{2,}', row.strip())\n",
    "            if len(cols) == 4:\n",
    "                plant_data.append({\n",
    "                    'Scientific Name': cols[0],\n",
    "                    'Growth Form and Habit': cols[1],\n",
    "                    'Threat Status': cols[2],\n",
    "                    'Habitat and Vulnerability': cols[3]\n",
    "                })\n",
    "\n",
    "    return pd.DataFrame(plant_data)\n",
    "\n",
    "# Example usage\n",
    "pdf_path = 'path/to/your/report.pdf'  # Replace with your PDF path\n",
    "plant_info_df = scrape_plant_info_from_pdf(pdf_path)\n",
    "print(plant_info_df.head())\n"
   ]
  },
  {
   "cell_type": "code",
   "execution_count": null,
   "metadata": {},
   "outputs": [],
   "source": [
    "def classify_plants(soil_moisture, rain_today):\n",
    "    classification = None\n",
    "    insights = None\n",
    "\n",
    "    if soil_moisture <= 25:\n",
    "        classification = 'Drought-tolerant'\n",
    "    elif soil_moisture <= 40:\n",
    "        classification = 'Moderate'\n",
    "    else:\n",
    "        classification = 'Moisture-loving'\n",
    "\n",
    "    if rain_today > 0:\n",
    "        if classification == 'Drought-tolerant':\n",
    "            insights = f\"Thirsty {classification} plants are enjoying the rain today!\"\n",
    "        elif classification == 'Moderate':\n",
    "            insights = f\"Today's rain is beneficial for {classification} plants, ensuring they have adequate moisture.\"\n",
    "        elif classification == 'Moisture-loving':\n",
    "            insights = f\"{classification.capitalize()} plants are thriving in today's rainy weather.\"\n",
    "\n",
    "    return {'classification': classification, 'insights': insights}"
   ]
  },
  {
   "cell_type": "code",
   "execution_count": null,
   "metadata": {},
   "outputs": [],
   "source": [
    "for index, row in plant_info_df.iterrows():\n",
    "    plant_data = classify_plants(row['Rain(mm)'], row['Growth Form'], row['Rain(mm)'])\n",
    "    print(f\"Plant: {row['Plant Name']}\")\n",
    "    print(f\"Classification: {plant_data['classification']}\")\n",
    "    print(f\"Insights: {plant_data['insights']}\")\n",
    "    print(\"\")"
   ]
  }
 ],
 "metadata": {
  "kernelspec": {
   "display_name": "Python 3",
   "language": "python",
   "name": "python3"
  },
  "language_info": {
   "codemirror_mode": {
    "name": "ipython",
    "version": 3
   },
   "file_extension": ".py",
   "mimetype": "text/x-python",
   "name": "python",
   "nbconvert_exporter": "python",
   "pygments_lexer": "ipython3",
   "version": "3.11.9"
  }
 },
 "nbformat": 4,
 "nbformat_minor": 2
}
